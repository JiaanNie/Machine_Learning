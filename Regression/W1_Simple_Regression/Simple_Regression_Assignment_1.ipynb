{
 "cells": [
  {
   "cell_type": "code",
   "execution_count": 4,
   "metadata": {
    "collapsed": false
   },
   "outputs": [
    {
     "data": {
      "text/html": [
       "\n",
       "        <iframe\n",
       "            width=\"900\"\n",
       "            height=\"900\"\n",
       "            src=\"./assignment_1.pdf\"\n",
       "            frameborder=\"0\"\n",
       "            allowfullscreen\n",
       "        ></iframe>\n",
       "        "
      ],
      "text/plain": [
       "<IPython.lib.display.IFrame at 0x7f14c8a29b10>"
      ]
     },
     "execution_count": 4,
     "metadata": {},
     "output_type": "execute_result"
    }
   ],
   "source": [
    "from IPython.display import IFrame\n",
    "IFrame(\"./assignment_1.pdf\", width=900, height=900)"
   ]
  },
  {
   "cell_type": "code",
   "execution_count": 16,
   "metadata": {
    "collapsed": true
   },
   "outputs": [],
   "source": [
    "import graphlab"
   ]
  },
  {
   "cell_type": "code",
   "execution_count": 17,
   "metadata": {
    "collapsed": false
   },
   "outputs": [],
   "source": [
    "sale = graphlab.SFrame('kc_house_data.gl/') ## load the data into sframe"
   ]
  },
  {
   "cell_type": "code",
   "execution_count": 18,
   "metadata": {
    "collapsed": false
   },
   "outputs": [
    {
     "data": {
      "text/plain": [
       "<bound method SFrame.show of Columns:\n",
       "\tid\tstr\n",
       "\tdate\tdatetime\n",
       "\tprice\tfloat\n",
       "\tbedrooms\tfloat\n",
       "\tbathrooms\tfloat\n",
       "\tsqft_living\tfloat\n",
       "\tsqft_lot\tint\n",
       "\tfloors\tstr\n",
       "\twaterfront\tint\n",
       "\tview\tint\n",
       "\tcondition\tint\n",
       "\tgrade\tint\n",
       "\tsqft_above\tint\n",
       "\tsqft_basement\tint\n",
       "\tyr_built\tint\n",
       "\tyr_renovated\tint\n",
       "\tzipcode\tstr\n",
       "\tlat\tfloat\n",
       "\tlong\tfloat\n",
       "\tsqft_living15\tfloat\n",
       "\tsqft_lot15\tfloat\n",
       "\n",
       "Rows: 21613\n",
       "\n",
       "Data:\n",
       "+------------+---------------------------+-----------+----------+-----------+\n",
       "|     id     |            date           |   price   | bedrooms | bathrooms |\n",
       "+------------+---------------------------+-----------+----------+-----------+\n",
       "| 7129300520 | 2014-10-13 00:00:00+00:00 |  221900.0 |   3.0    |    1.0    |\n",
       "| 6414100192 | 2014-12-09 00:00:00+00:00 |  538000.0 |   3.0    |    2.25   |\n",
       "| 5631500400 | 2015-02-25 00:00:00+00:00 |  180000.0 |   2.0    |    1.0    |\n",
       "| 2487200875 | 2014-12-09 00:00:00+00:00 |  604000.0 |   4.0    |    3.0    |\n",
       "| 1954400510 | 2015-02-18 00:00:00+00:00 |  510000.0 |   3.0    |    2.0    |\n",
       "| 7237550310 | 2014-05-12 00:00:00+00:00 | 1225000.0 |   4.0    |    4.5    |\n",
       "| 1321400060 | 2014-06-27 00:00:00+00:00 |  257500.0 |   3.0    |    2.25   |\n",
       "| 2008000270 | 2015-01-15 00:00:00+00:00 |  291850.0 |   3.0    |    1.5    |\n",
       "| 2414600126 | 2015-04-15 00:00:00+00:00 |  229500.0 |   3.0    |    1.0    |\n",
       "| 3793500160 | 2015-03-12 00:00:00+00:00 |  323000.0 |   3.0    |    2.5    |\n",
       "+------------+---------------------------+-----------+----------+-----------+\n",
       "+-------------+----------+--------+------------+------+-----------+-------+------------+\n",
       "| sqft_living | sqft_lot | floors | waterfront | view | condition | grade | sqft_above |\n",
       "+-------------+----------+--------+------------+------+-----------+-------+------------+\n",
       "|    1180.0   |   5650   |   1    |     0      |  0   |     3     |   7   |    1180    |\n",
       "|    2570.0   |   7242   |   2    |     0      |  0   |     3     |   7   |    2170    |\n",
       "|    770.0    |  10000   |   1    |     0      |  0   |     3     |   6   |    770     |\n",
       "|    1960.0   |   5000   |   1    |     0      |  0   |     5     |   7   |    1050    |\n",
       "|    1680.0   |   8080   |   1    |     0      |  0   |     3     |   8   |    1680    |\n",
       "|    5420.0   |  101930  |   1    |     0      |  0   |     3     |   11  |    3890    |\n",
       "|    1715.0   |   6819   |   2    |     0      |  0   |     3     |   7   |    1715    |\n",
       "|    1060.0   |   9711   |   1    |     0      |  0   |     3     |   7   |    1060    |\n",
       "|    1780.0   |   7470   |   1    |     0      |  0   |     3     |   7   |    1050    |\n",
       "|    1890.0   |   6560   |   2    |     0      |  0   |     3     |   7   |    1890    |\n",
       "+-------------+----------+--------+------------+------+-----------+-------+------------+\n",
       "+---------------+----------+--------------+---------+-------------+\n",
       "| sqft_basement | yr_built | yr_renovated | zipcode |     lat     |\n",
       "+---------------+----------+--------------+---------+-------------+\n",
       "|       0       |   1955   |      0       |  98178  | 47.51123398 |\n",
       "|      400      |   1951   |     1991     |  98125  | 47.72102274 |\n",
       "|       0       |   1933   |      0       |  98028  | 47.73792661 |\n",
       "|      910      |   1965   |      0       |  98136  |   47.52082  |\n",
       "|       0       |   1987   |      0       |  98074  | 47.61681228 |\n",
       "|      1530     |   2001   |      0       |  98053  | 47.65611835 |\n",
       "|       0       |   1995   |      0       |  98003  | 47.30972002 |\n",
       "|       0       |   1963   |      0       |  98198  | 47.40949984 |\n",
       "|      730      |   1960   |      0       |  98146  | 47.51229381 |\n",
       "|       0       |   2003   |      0       |  98038  | 47.36840673 |\n",
       "+---------------+----------+--------------+---------+-------------+\n",
       "+---------------+---------------+-----+\n",
       "|      long     | sqft_living15 | ... |\n",
       "+---------------+---------------+-----+\n",
       "| -122.25677536 |     1340.0    | ... |\n",
       "|  -122.3188624 |     1690.0    | ... |\n",
       "| -122.23319601 |     2720.0    | ... |\n",
       "| -122.39318505 |     1360.0    | ... |\n",
       "| -122.04490059 |     1800.0    | ... |\n",
       "| -122.00528655 |     4760.0    | ... |\n",
       "| -122.32704857 |     2238.0    | ... |\n",
       "| -122.31457273 |     1650.0    | ... |\n",
       "| -122.33659507 |     1780.0    | ... |\n",
       "|  -122.0308176 |     2390.0    | ... |\n",
       "+---------------+---------------+-----+\n",
       "[21613 rows x 21 columns]\n",
       "Note: Only the head of the SFrame is printed.\n",
       "You can use print_rows(num_rows=m, num_columns=n) to print more rows and columns.>"
      ]
     },
     "execution_count": 18,
     "metadata": {},
     "output_type": "execute_result"
    }
   ],
   "source": [
    "## we need to splite the data into train set and test set with the ratio of 8:2\n",
    "## you need the seed because we want to keep the spliting consistance evey time\n",
    "train_data, test_data = sale.random_split(.8, seed=0)\n",
    "sale.show"
   ]
  },
  {
   "cell_type": "code",
   "execution_count": 19,
   "metadata": {
    "collapsed": false
   },
   "outputs": [
    {
     "name": "stdout",
     "output_type": "stream",
     "text": [
      "[221900.0, 538000.0, 180000.0, 604000.0, 510000.0, 1225000.0, 257500.0, 291850.0, 229500.0, 323000.0, 662500.0, 468000.0, 310000.0, 400000.0, 530000.0, 650000.0, 395000.0, 485000.0, 189000.0, 230000.0, 385000.0, 2000000.0, 285000.0, 252700.0, 329000.0, 233000.0, 937000.0, 667000.0, 438000.0, 719000.0, 580500.0, 280000.0, 687500.0, 535000.0, 322500.0, 696000.0, 550000.0, 640000.0, 240000.0, 605000.0, 625000.0, 775000.0, 861990.0, 685000.0, 309000.0, 488000.0, 210490.0, 785000.0, 450000.0, 1350000.0, 228000.0, 345000.0, 600000.0, 585000.0, 920000.0, 885000.0, 292500.0, 301000.0, 951000.0, 430000.0, 650000.0, 289000.0, 505000.0, 549000.0, 425000.0, 317625.0, 975000.0, 287000.0, 204000.0, 1325000.0, 1040000.0, 325000.0, 571000.0, 360000.0, 349000.0, 832500.0, 380000.0, 480000.0, 410000.0, 720000.0, 390000.0, 360000.0, 355000.0, 356000.0, 315000.0, 940000.0, 305000.0, 461000.0, 215000.0, 335000.0, 243500.0, 1099880.0, 153000.0, 430000.0, 700000.0, 905000.0, 247500.0, 199000.0, 314000.0, 437500.0, ... ]\n",
      "[443800.0, 1076000.0, 360000.0, 1208000.0, 1020000.0, 2450000.0, 515000.0, 583700.0, 459000.0, 646000.0, 1325000.0, 936000.0, 620000.0, 800000.0, 1060000.0, 1300000.0, 790000.0, 970000.0, 378000.0, 460000.0, 770000.0, 4000000.0, 570000.0, 505400.0, 658000.0, 466000.0, 1874000.0, 1334000.0, 876000.0, 1438000.0, 1161000.0, 560000.0, 1375000.0, 1070000.0, 645000.0, 1392000.0, 1100000.0, 1280000.0, 480000.0, 1210000.0, 1250000.0, 1550000.0, 1723980.0, 1370000.0, 618000.0, 976000.0, 420980.0, 1570000.0, 900000.0, 2700000.0, 456000.0, 690000.0, 1200000.0, 1170000.0, 1840000.0, 1770000.0, 585000.0, 602000.0, 1902000.0, 860000.0, 1300000.0, 578000.0, 1010000.0, 1098000.0, 850000.0, 635250.0, 1950000.0, 574000.0, 408000.0, 2650000.0, 2080000.0, 650000.0, 1142000.0, 720000.0, 698000.0, 1665000.0, 760000.0, 960000.0, 820000.0, 1440000.0, 780000.0, 720000.0, 710000.0, 712000.0, 630000.0, 1880000.0, 610000.0, 922000.0, 430000.0, 670000.0, 487000.0, 2199760.0, 306000.0, 860000.0, 1400000.0, 1810000.0, 495000.0, 398000.0, 628000.0, 875000.0, ... ]\n"
     ]
    }
   ],
   "source": [
    "## this will set price to be the whole price coloum as a list\n",
    "prices = sale['price']\n",
    "pricesq = prices +prices\n",
    "print(prices)\n",
    "print(pricesq)\n"
   ]
  },
  {
   "cell_type": "code",
   "execution_count": 20,
   "metadata": {
    "collapsed": false
   },
   "outputs": [
    {
     "name": "stdout",
     "output_type": "stream",
     "text": [
      "11672925011.0\n"
     ]
    }
   ],
   "source": [
    "### now we need the sum of all prices\n",
    "sum_price  = prices.sum()\n",
    "print (sum_price)"
   ]
  },
  {
   "cell_type": "code",
   "execution_count": 21,
   "metadata": {
    "collapsed": false
   },
   "outputs": [
    {
     "data": {
      "text/plain": [
       "540088.1419053348"
      ]
     },
     "execution_count": 21,
     "metadata": {},
     "output_type": "execute_result"
    }
   ],
   "source": [
    "## we need to find the average price of each houses\n",
    "#method one using the sum of total prices / number of houses \n",
    "avg_price_1 = sum_price / prices.size()\n",
    "avg_price_1"
   ]
  },
  {
   "cell_type": "code",
   "execution_count": 22,
   "metadata": {
    "collapsed": false
   },
   "outputs": [
    {
     "data": {
      "text/plain": [
       "540088.1419053345"
      ]
     },
     "execution_count": 22,
     "metadata": {},
     "output_type": "execute_result"
    }
   ],
   "source": [
    "#method two using the mean function\n",
    "avg_price_2 = prices.mean()\n",
    "avg_price_2"
   ]
  },
  {
   "cell_type": "code",
   "execution_count": null,
   "metadata": {
    "collapsed": true
   },
   "outputs": [],
   "source": []
  },
  {
   "cell_type": "code",
   "execution_count": null,
   "metadata": {
    "collapsed": false
   },
   "outputs": [],
   "source": []
  },
  {
   "cell_type": "code",
   "execution_count": 27,
   "metadata": {
    "collapsed": false
   },
   "outputs": [],
   "source": [
    "## input_feature is a x axis\n",
    "## output is on the y axis\n",
    "\n",
    "def simple_linear_regression(input_feature, output):\n",
    "    Xi = input_feature\n",
    "    Yi = output\n",
    "\n",
    "    ## now find the mean of Ys\n",
    "    Yi_mean = Yi.mean()\n",
    "    ## find the mean of Xs\n",
    "    Xi_mean = Xi.mean()\n",
    "    ## find the mean of product xi and yi\n",
    "    XiYi_mean = (Xi * Yi).mean()\n",
    "    \n",
    "    \n",
    "    ## find the mean of x^2\n",
    "    Xi_squre  = Xi * Xi\n",
    "    Xi_squre_mean = Xi_squre.mean()\n",
    "\n",
    "    #find the slope using the equation\n",
    "    slope = (XiYi_mean - Xi_mean * Yi_mean)/ (Xi_squre_mean - Xi_mean * Xi_mean)\n",
    "    \n",
    "    #find the intercept\n",
    "    intercept = Yi_mean - slope * Xi_mean\n",
    "    return (intercept, slope)\n",
    "    "
   ]
  },
  {
   "cell_type": "code",
   "execution_count": 28,
   "metadata": {
    "collapsed": false
   },
   "outputs": [
    {
     "name": "stdout",
     "output_type": "stream",
     "text": [
      "Intercept: -47116.0765749\n",
      "Slope: 281.958838568\n"
     ]
    }
   ],
   "source": [
    "\n",
    "\n",
    "sqft_intercept, sqft_slope = simple_linear_regression(train_data['sqft_living'], train_data['price'])\n",
    "\n",
    "print (\"Intercept: \" + str(sqft_intercept))\n",
    "print (\"Slope: \" + str(sqft_slope))\n"
   ]
  },
  {
   "cell_type": "code",
   "execution_count": 29,
   "metadata": {
    "collapsed": true
   },
   "outputs": [],
   "source": [
    "def get_regression_predictions(input_feature, intercept, slope):\n",
    "    predicted_output = intercept + slope * input_feature\n",
    "    return predicted_output\n"
   ]
  },
  {
   "cell_type": "code",
   "execution_count": 31,
   "metadata": {
    "collapsed": false
   },
   "outputs": [
    {
     "name": "stdout",
     "output_type": "stream",
     "text": [
      "700074.845629\n"
     ]
    }
   ],
   "source": [
    "myhouse_sqft  = 2650\n",
    "print(get_regression_predictions(myhouse_sqft, sqft_intercept, sqft_slope))"
   ]
  },
  {
   "cell_type": "code",
   "execution_count": 35,
   "metadata": {
    "collapsed": true
   },
   "outputs": [],
   "source": [
    "def get_residual_sum_of_square(slope, intercept, input_feature, output):\n",
    "    list_of_predicted_values = slope * input_feature + intercept\n",
    "    difference  = output - list_of_predicted_values\n",
    "    RSS  = (difference * difference).sum()\n",
    "    return RSS"
   ]
  },
  {
   "cell_type": "code",
   "execution_count": 36,
   "metadata": {
    "collapsed": false
   },
   "outputs": [
    {
     "name": "stdout",
     "output_type": "stream",
     "text": [
      "1.20191835632e+15\n"
     ]
    }
   ],
   "source": [
    "RSS_on_sqft = get_residual_sum_of_square(sqft_slope, sqft_intercept, train_data['sqft_living'], train_data['price'])\n",
    "print(RSS_on_sqft)"
   ]
  },
  {
   "cell_type": "code",
   "execution_count": 39,
   "metadata": {
    "collapsed": true
   },
   "outputs": [],
   "source": [
    "def inverse_regression_prediction(slope, intercept, output):\n",
    "    predicted_input_feature  = (output - intercept)/ slope\n",
    "    return predicted_input_feature"
   ]
  },
  {
   "cell_type": "code",
   "execution_count": 40,
   "metadata": {
    "collapsed": false
   },
   "outputs": [],
   "source": [
    "predicted_input  = inverse_regression_prediction(sqft_slope, sqft_intercept, train_data['price'])"
   ]
  },
  {
   "cell_type": "code",
   "execution_count": 42,
   "metadata": {
    "collapsed": false
   },
   "outputs": [
    {
     "name": "stdout",
     "output_type": "stream",
     "text": [
      "[1180.0, 2570.0, 770.0, 1960.0, 1680.0, 5420.0, 1715.0, 1060.0, 1780.0, 1890.0, 3560.0, 1160.0, 1370.0, 1810.0, 1890.0, 1600.0, 1200.0, 1250.0, 1620.0, 3050.0, 2270.0, 1070.0, 2450.0, 2450.0, 1400.0, 1520.0, 2570.0, 1190.0, 2330.0, 2060.0, 2300.0, 1660.0, 2360.0, 1220.0, 2570.0, 3595.0, 1570.0, 1280.0, 3160.0, 990.0, 2290.0, 1250.0, 2753.0, 1190.0, 3150.0, 1410.0, 1980.0, 2730.0, 2830.0, 2420.0, 3250.0, 1850.0, 2150.0, 2519.0, 1540.0, 1660.0, 2770.0, 2720.0, 2240.0, 1000.0, 3200.0, 4770.0, 1260.0, 2380.0, 3430.0, 1760.0, 1040.0, 1410.0, 3450.0, 2350.0, 2020.0, 1680.0, 960.0, 2140.0, 2660.0, 2770.0, 1610.0, 1030.0, 3520.0, 1200.0, 1580.0, 1580.0, 3300.0, 1160.0, 1810.0, 2320.0, 2070.0, 1980.0, 2190.0, 2920.0, 1210.0, 2340.0, 1670.0, 1240.0, 3140.0, 2310.0, 1260.0, 1540.0, 2080.0, 4380.0, ... ]\n"
     ]
    }
   ],
   "source": [
    "print(train_data['sqft_living'])"
   ]
  },
  {
   "cell_type": "code",
   "execution_count": 43,
   "metadata": {
    "collapsed": false
   },
   "outputs": [
    {
     "name": "stdout",
     "output_type": "stream",
     "text": [
      "[954.0969807561225, 2075.182603060895, 805.493729966594, 2309.259322681632, 1975.8773280702794, 4511.708457294932, 1080.3565446727625, 1202.1828373844644, 981.0512696821468, 1312.6599558115242, 2516.73641507274, 1826.9194155843559, 1585.7494620357177, 2046.8096673492907, 1568.0163772159647, 1887.2119039715153, 837.413282642149, 982.824578164122, 1532.5502075764591, 7260.3366043566175, 1177.888511181403, 1063.3327832457999, 1333.9396575952278, 3490.2827716771694, 2532.6961914105177, 1720.520906665839, 2717.120273535947, 1160.1554263616501, 2605.401839171504, 1310.886647329549, 2635.548083365084, 2117.742006628302, 2436.9375333838525, 1018.2907478036277, 2383.738278924594, 3224.251033211238, 2596.5352967616277, 1263.0073183162165, 1897.851754863367, 913.6300811974467, 2951.196993156684, 1763.0803102332457, 4955.035577788752, 975.7313442362209, 1390.6855290184367, 2295.07285482583, 2241.8736003665717, 3429.9902832900098, 3305.85868955174, 1234.634382604612, 3539.935409172477, 1692.1479709542346, 2472.403703023358, 1958.1442432505266, 2114.1953896643513, 1674.4148861344815, 1293.59688963029, 3625.0542163072905, 1184.981745109304, 890.6125371014075, 4866.370153689988, 3855.5843189640777, 1319.7531897394254, 1443.884783477695, 3119.6612989443356, 1514.8171227567063, 1869.4788191517625, 1621.2156316752232, 2720.6668904998974, 1550.283292396212, 1426.1516986579422, 1429.6983156218928, 1284.2870200999198, 3500.922622569021, 1248.8208504604142, 1802.0930968367018, 929.6253237048636, 1355.2193593789311, 4067.955742765437, 709.7350719399288, 1692.1479709542346, 2649.7345512208863, 3376.791028830751, 872.8794522816546, 1280.7404031359692, 1718.7475981838636, 3184.6707878935495, 2135.4750914480546, 2649.557220372689, 4025.8219332337044, 1195.6215960011557, 1497.0840379369536, 1798.5464798727512, 835.6399741601738, 2578.8022119418747, 2287.0929666569414, 2188.674345907313, 1133.5557991320209, 1337.3089437109807, 2793.372538260884, ... ]\n"
     ]
    }
   ],
   "source": [
    "print(predicted_input)"
   ]
  },
  {
   "cell_type": "code",
   "execution_count": 44,
   "metadata": {
    "collapsed": false
   },
   "outputs": [
    {
     "name": "stdout",
     "output_type": "stream",
     "text": [
      "3004.39624762\n"
     ]
    }
   ],
   "source": [
    "## if my house is cause is 800 000\n",
    "house  = 800000\n",
    "print(inverse_regression_prediction(sqft_slope, sqft_intercept, house))"
   ]
  },
  {
   "cell_type": "code",
   "execution_count": 46,
   "metadata": {
    "collapsed": true
   },
   "outputs": [],
   "source": [
    "## lets try with bedroom feature\n",
    "bedrooms_slope, bedrooms_intercept = simple_linear_regression(train_data['bedrooms'], train_data['price'])"
   ]
  },
  {
   "cell_type": "code",
   "execution_count": 47,
   "metadata": {
    "collapsed": false
   },
   "outputs": [
    {
     "name": "stdout",
     "output_type": "stream",
     "text": [
      "1.20191835632e+15\n",
      "2.17995976424e+15\n"
     ]
    }
   ],
   "source": [
    "bedroomRSS = get_residual_sum_of_square(bedrooms_slope, bedrooms_intercept, train_data['bedrooms'], train_data['price'])\n",
    "print(RSS_on_sqft)\n",
    "print(bedroomRSS)"
   ]
  },
  {
   "cell_type": "code",
   "execution_count": null,
   "metadata": {
    "collapsed": true
   },
   "outputs": [],
   "source": []
  }
 ],
 "metadata": {
  "kernelspec": {
   "display_name": "Python 2",
   "language": "python",
   "name": "python2"
  },
  "language_info": {
   "codemirror_mode": {
    "name": "ipython",
    "version": 2
   },
   "file_extension": ".py",
   "mimetype": "text/x-python",
   "name": "python",
   "nbconvert_exporter": "python",
   "pygments_lexer": "ipython2",
   "version": "2.7.11"
  }
 },
 "nbformat": 4,
 "nbformat_minor": 0
}
